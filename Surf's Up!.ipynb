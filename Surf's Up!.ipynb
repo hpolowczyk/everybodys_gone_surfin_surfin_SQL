{
 "cells": [
  {
   "cell_type": "code",
   "execution_count": 1,
   "metadata": {},
   "outputs": [],
   "source": [
    "# Import visualization dependencies\n",
    "%matplotlib inline\n",
    "from matplotlib import style\n",
    "style.use('fivethirtyeight')\n",
    "import matplotlib.pyplot as plt"
   ]
  },
  {
   "cell_type": "code",
   "execution_count": 2,
   "metadata": {},
   "outputs": [],
   "source": [
    "# Import analytical dependencies\n",
    "import numpy as np\n",
    "import pandas as pd\n",
    "import datetime as dt\n",
    "from datetime import datetime"
   ]
  },
  {
   "cell_type": "code",
   "execution_count": 3,
   "metadata": {},
   "outputs": [],
   "source": [
    "# Import Python SQL toolkit and Object Relational Mapper\n",
    "import sqlalchemy\n",
    "from sqlalchemy.ext.automap import automap_base\n",
    "from sqlalchemy.orm import Session\n",
    "from sqlalchemy import create_engine, inspect, func"
   ]
  },
  {
   "cell_type": "code",
   "execution_count": 4,
   "metadata": {},
   "outputs": [],
   "source": [
    "# Choose trip dates\n",
    "trip_start = '2018-01-01'\n",
    "trip_end = '2018-01-07'"
   ]
  },
  {
   "cell_type": "markdown",
   "metadata": {},
   "source": [
    "## Reflect Tables into SQLAlchemy ORM"
   ]
  },
  {
   "cell_type": "code",
   "execution_count": 5,
   "metadata": {},
   "outputs": [],
   "source": [
    "# Create an engine for the 'hawaii.sqlite' database\n",
    "engine = create_engine(\"sqlite:///Resources/hawaii.sqlite\")"
   ]
  },
  {
   "cell_type": "code",
   "execution_count": 6,
   "metadata": {},
   "outputs": [
    {
     "data": {
      "text/plain": [
       "['measurement', 'station']"
      ]
     },
     "execution_count": 6,
     "metadata": {},
     "output_type": "execute_result"
    }
   ],
   "source": [
    "# Use the Inspector to explore the database and print the table names\n",
    "inspector = inspect(engine)\n",
    "inspector.get_table_names()"
   ]
  },
  {
   "cell_type": "code",
   "execution_count": 7,
   "metadata": {},
   "outputs": [
    {
     "name": "stdout",
     "output_type": "stream",
     "text": [
      "id INTEGER\n",
      "station TEXT\n",
      "date TEXT\n",
      "prcp FLOAT\n",
      "tobs FLOAT\n"
     ]
    }
   ],
   "source": [
    "# Use Inspector to print the column names and types\n",
    "columns = inspector.get_columns('measurement')\n",
    "for c in columns:\n",
    "    print(c['name'], c[\"type\"])"
   ]
  },
  {
   "cell_type": "code",
   "execution_count": 8,
   "metadata": {},
   "outputs": [
    {
     "name": "stdout",
     "output_type": "stream",
     "text": [
      "id INTEGER\n",
      "station TEXT\n",
      "name TEXT\n",
      "latitude FLOAT\n",
      "longitude FLOAT\n",
      "elevation FLOAT\n"
     ]
    }
   ],
   "source": [
    "# Use Inspector to print the column names and types\n",
    "columns = inspector.get_columns('station')\n",
    "for c in columns:\n",
    "    print(c['name'], c[\"type\"])"
   ]
  },
  {
   "cell_type": "code",
   "execution_count": 9,
   "metadata": {},
   "outputs": [
    {
     "data": {
      "text/plain": [
       "['measurement', 'station']"
      ]
     },
     "execution_count": 9,
     "metadata": {},
     "output_type": "execute_result"
    }
   ],
   "source": [
    "# Reflect Database into ORM class\n",
    "Base = automap_base()\n",
    "Base.prepare(engine, reflect=True)\n",
    "# View all the classes\n",
    "Base.classes.keys()"
   ]
  },
  {
   "cell_type": "code",
   "execution_count": 10,
   "metadata": {},
   "outputs": [],
   "source": [
    "# Create reference variables for each class\n",
    "Measurement = Base.classes.measurement\n",
    "Station = Base.classes.station"
   ]
  },
  {
   "cell_type": "code",
   "execution_count": 11,
   "metadata": {},
   "outputs": [],
   "source": [
    "# Start a session to query the database\n",
    "session = Session(engine)"
   ]
  },
  {
   "cell_type": "markdown",
   "metadata": {},
   "source": [
    "## Exploratory Climate Analysis\n",
    "---\n",
    "### Precipitation Analysis"
   ]
  },
  {
   "cell_type": "code",
   "execution_count": 12,
   "metadata": {
    "scrolled": true
   },
   "outputs": [],
   "source": [
    "# Retrieve all date values from latest to earliest (descending order)\n",
    "dates = session.query(Measurement.date).order_by(Measurement.date.desc()).all()\n",
    "# Create reference variables for the earliest and latest dates\n",
    "earliest_date = datetime.strptime(dates[-1][0], '%Y-%m-%d')\n",
    "latest_date = datetime.strptime(dates[0][0], '%Y-%m-%d')\n",
    "# Create a query to retrieve the last 12 months of precipitation\n",
    "# Since 2016 is a leap year, add another day to dt.timedelta\n",
    "last12m_prcp = session.query(Measurement.date,Measurement.prcp).\\\n",
    "                filter(Measurement.date >= latest_date - dt.timedelta(days=366)).\\\n",
    "                order_by(Measurement.date).all()"
   ]
  },
  {
   "cell_type": "code",
   "execution_count": 13,
   "metadata": {},
   "outputs": [],
   "source": [
    "# Create a Pandas Dataframe and set index to the dates\n",
    "last12m_prcp_df = pd.DataFrame(last12m_prcp, columns=['date', 'precipitation'])\n",
    "last12m_prcp_df.set_index('date', inplace=True)"
   ]
  },
  {
   "cell_type": "code",
   "execution_count": 14,
   "metadata": {},
   "outputs": [
    {
     "data": {
      "image/png": "[encoded data removed]",
      "text/plain": [
       "<Figure size 432x288 with 1 Axes>"
      ]
     },
     "metadata": {
      "needs_background": "light"
     },
     "output_type": "display_data"
    }
   ],
   "source": [
    "# Use .plot to get a line plot displaying the last 12 months of precipitation data\n",
    "last12m_prcp_df.plot(title='Last 12 Months of Precipitation')\n",
    "# Remove ticks on the x-axis for better readability\n",
    "plt.tick_params(labelbottom=False)  \n",
    "# Label the x and y-axis appropriately\n",
    "plt.xlabel('Date')\n",
    "plt.ylabel('Precipitation in mm')\n",
    "# Automatically adjust parameter and display the plot\n",
    "plt.tight_layout()\n",
    "plt.show()"
   ]
  },
  {
   "cell_type": "code",
   "execution_count": 15,
   "metadata": {},
   "outputs": [
    {
     "data": {
      "text/html": [
       "<div>\n",
       "<style scoped>\n",
       "    .dataframe tbody tr th:only-of-type {\n",
       "        vertical-align: middle;\n",
       "    }\n",
       "\n",
       "    .dataframe tbody tr th {\n",
       "        vertical-align: top;\n",
       "    }\n",
       "\n",
       "    .dataframe thead th {\n",
       "        text-align: right;\n",
       "    }\n",
       "</style>\n",
       "<table border=\"1\" class=\"dataframe\">\n",
       "  <thead>\n",
       "    <tr style=\"text-align: right;\">\n",
       "      <th></th>\n",
       "      <th>precipitation</th>\n",
       "    </tr>\n",
       "  </thead>\n",
       "  <tbody>\n",
       "    <tr>\n",
       "      <th>count</th>\n",
       "      <td>2021.000000</td>\n",
       "    </tr>\n",
       "    <tr>\n",
       "      <th>mean</th>\n",
       "      <td>0.177279</td>\n",
       "    </tr>\n",
       "    <tr>\n",
       "      <th>std</th>\n",
       "      <td>0.461190</td>\n",
       "    </tr>\n",
       "    <tr>\n",
       "      <th>min</th>\n",
       "      <td>0.000000</td>\n",
       "    </tr>\n",
       "    <tr>\n",
       "      <th>25%</th>\n",
       "      <td>0.000000</td>\n",
       "    </tr>\n",
       "    <tr>\n",
       "      <th>50%</th>\n",
       "      <td>0.020000</td>\n",
       "    </tr>\n",
       "    <tr>\n",
       "      <th>75%</th>\n",
       "      <td>0.130000</td>\n",
       "    </tr>\n",
       "    <tr>\n",
       "      <th>max</th>\n",
       "      <td>6.700000</td>\n",
       "    </tr>\n",
       "  </tbody>\n",
       "</table>\n",
       "</div>"
      ],
      "text/plain": [
       "       precipitation\n",
       "count    2021.000000\n",
       "mean        0.177279\n",
       "std         0.461190\n",
       "min         0.000000\n",
       "25%         0.000000\n",
       "50%         0.020000\n",
       "75%         0.130000\n",
       "max         6.700000"
      ]
     },
     "execution_count": 15,
     "metadata": {},
     "output_type": "execute_result"
    }
   ],
   "source": [
    "# Get summary statistics using Pandas\n",
    "last12m_prcp_df.describe()"
   ]
  },
  {
   "cell_type": "markdown",
   "metadata": {},
   "source": [
    "### Station Analysis"
   ]
  },
  {
   "cell_type": "code",
   "execution_count": 16,
   "metadata": {},
   "outputs": [
    {
     "name": "stdout",
     "output_type": "stream",
     "text": [
      "9\n"
     ]
    }
   ],
   "source": [
    "# Retrieve the number of stations in the dataset\n",
    "station_num = session.query(Station.station).group_by(Station.station).count()\n",
    "print(station_num)"
   ]
  },
  {
   "cell_type": "code",
   "execution_count": 17,
   "metadata": {
    "scrolled": true
   },
   "outputs": [
    {
     "data": {
      "text/plain": [
       "[('USC00519281', 2772),\n",
       " ('USC00519397', 2724),\n",
       " ('USC00513117', 2709),\n",
       " ('USC00519523', 2669),\n",
       " ('USC00516128', 2612),\n",
       " ('USC00514830', 2202),\n",
       " ('USC00511918', 1979),\n",
       " ('USC00517948', 1372),\n",
       " ('USC00518838', 511)]"
      ]
     },
     "execution_count": 17,
     "metadata": {},
     "output_type": "execute_result"
    }
   ],
   "source": [
    "# Retrieve the most active stations\n",
    "active_stations = session.query(Measurement.station,func.count(Measurement.tobs)).group_by(Measurement.station)\\\n",
    "                  .order_by(func.count(Measurement.tobs).desc()).all()\n",
    "active_stations"
   ]
  },
  {
   "cell_type": "code",
   "execution_count": 18,
   "metadata": {},
   "outputs": [
    {
     "data": {
      "text/plain": [
       "[(54.0, 85.0, 71.66378066378067)]"
      ]
     },
     "execution_count": 18,
     "metadata": {},
     "output_type": "execute_result"
    }
   ],
   "source": [
    "# Create a query to calculate the lowest temperature recorded, highest temperature recorded, \n",
    "# and average temperature for the most active station (i.e. USC00519281)\n",
    "most_active_station_stats = session.query(func.min(Measurement.tobs),func.max(Measurement.tobs),\\\n",
    "                                          func.avg(Measurement.tobs)).filter(Measurement.station == 'USC00519281').all()\n",
    "\n",
    "most_active_station_stats"
   ]
  },
  {
   "cell_type": "code",
   "execution_count": 19,
   "metadata": {},
   "outputs": [],
   "source": [
    "# Retrieve all date values from latest to earliest (descending order) for the most active station (mas)\n",
    "mas_dates = session.query(Measurement.date).\\\n",
    "                            filter(Measurement.station == 'USC00519281').\\\n",
    "                            order_by(Measurement.date.desc()).all()\n",
    "# Create reference variables for the latest date for the most active station (mas)\n",
    "latest_date_mas = datetime.strptime(mas_dates[0][0], '%Y-%m-%d')\n",
    "\n",
    "# Create a query to retrieve the last 12 months of temperature observation for the most active station\n",
    "# Since 2016 is a leap year, add another day to dt.timedelta\n",
    "last12m_tobs = session.query(Measurement.date,Measurement.tobs).\\\n",
    "                filter(Measurement.date >= latest_date_mas - dt.timedelta(days=366)).\\\n",
    "                filter(Measurement.station == 'USC00519281').\\\n",
    "                order_by(Measurement.date).all()\n",
    "# Create a Pandas Dataframe and set index to the dates\n",
    "last12m_tobs_df = pd.DataFrame(last12m_tobs, columns=['date', 'tobs'])\n",
    "last12m_tobs_df.set_index('date', inplace=True)"
   ]
  },
  {
   "cell_type": "code",
   "execution_count": 20,
   "metadata": {},
   "outputs": [
    {
     "data": {
      "image/png": "[encoded data removed]",
      "text/plain": [
       "<Figure size 432x288 with 1 Axes>"
      ]
     },
     "metadata": {
      "needs_background": "light"
     },
     "output_type": "display_data"
    }
   ],
   "source": [
    "# Use .plot.hist to get a histogram displaying the last 12 months of temperature observation data\n",
    "last12m_tobs_df.plot.hist(bins=12,title='Last 12 Months of Temperature Observations') \n",
    "# Label the x and y-axis appropriately\n",
    "plt.xlabel('Date')\n",
    "plt.ylabel('Frequency')\n",
    "# Automatically adjust parameter and display the plot\n",
    "plt.tight_layout()\n",
    "plt.show()"
   ]
  },
  {
   "cell_type": "markdown",
   "metadata": {},
   "source": [
    "### Temperature Analysis I"
   ]
  },
  {
   "cell_type": "code",
   "execution_count": 21,
   "metadata": {
    "scrolled": true
   },
   "outputs": [
    {
     "name": "stdout",
     "output_type": "stream",
     "text": [
      "The average temperature in the month of June is 74.94411764705882 Fahrenheit.\n",
      "The average temperature in the month of December is 71.04152933421226 Fahrenheit.\n"
     ]
    }
   ],
   "source": [
    "# In order to filter by month, import extract from sqlalchemy\n",
    "from sqlalchemy import extract\n",
    "\n",
    "# Retrieve all temperature observations values for the month of June, regardless of year\n",
    "all_temp_in_june = session.query(Measurement.tobs).filter(extract('month', Measurement.date) == 6).all()\n",
    "# Convert list of tuples into normal list\n",
    "june_temp_lst = list(np.ravel(all_temp_in_june))\n",
    "# Identify the average temperature in June\n",
    "june_avg = session.query(func.avg(Measurement.tobs)).filter(extract('month', Measurement.date) == 6).all()\n",
    "print(f'The average temperature in the month of June is {june_avg[0][0]} Fahrenheit.')\n",
    "\n",
    "# Retrieve all temperature observations values for the month of December, regardless of year\n",
    "all_temp_in_dec = session.query(Measurement.tobs).filter(extract('month', Measurement.date) == 12).all()\n",
    "# Convert list of tuples into normal list\n",
    "dec_temp_lst = list(np.ravel(all_temp_in_dec))\n",
    "# Identify the average temperature in December\n",
    "dec_avg = session.query(func.avg(Measurement.tobs)).filter(extract('month', Measurement.date) == 12).all()\n",
    "print(f'The average temperature in the month of December is {dec_avg[0][0]} Fahrenheit.')"
   ]
  },
  {
   "cell_type": "code",
   "execution_count": 22,
   "metadata": {},
   "outputs": [
    {
     "data": {
      "text/plain": [
       "Ttest_indResult(statistic=31.355036920962423, pvalue=4.193529835915755e-187)"
      ]
     },
     "execution_count": 22,
     "metadata": {},
     "output_type": "execute_result"
    }
   ],
   "source": [
    "# Import scipy.stats in order to perform unpaired t-tests\n",
    "import scipy.stats as stats\n",
    "\n",
    "# Perform a Welch’s t-test\n",
    "stats.ttest_ind(june_temp_lst, dec_temp_lst, equal_var=False)"
   ]
  },
  {
   "cell_type": "markdown",
   "metadata": {},
   "source": [
    "Since temperatures in different months are being investigated, the samples are independent groups and therefore, an unpaired t-test was performed. Paired t-tests consist of samples of the same test subjects. In this case, if temperature mean on the same day was being investigated using stations that are in close proximity, then a paired t-test could be used. Because temperatures across two different months are being tested, an unpaired t-test is needed.\n",
    "\n",
    "\n",
    "Since Seeing as the p-value is very close to zero, with a 95% confidence interval, we can reject the null hypothesis of equal temperature means for June and December."
   ]
  },
  {
   "cell_type": "markdown",
   "metadata": {},
   "source": [
    "### Temperature Analysis II"
   ]
  },
  {
   "cell_type": "code",
   "execution_count": 24,
   "metadata": {},
   "outputs": [
    {
     "name": "stdout",
     "output_type": "stream",
     "text": [
      "[(62.0, 69.57142857142857, 74.0)]\n"
     ]
    }
   ],
   "source": [
    "# This function called `calc_temps` will accept start date and end date in the format '%Y-%m-%d' \n",
    "# and return the minimum, average, and maximum temperatures for that range of dates\n",
    "def calc_temps(start_date, end_date):\n",
    "    \"\"\"TMIN, TAVG, and TMAX for a list of dates.\n",
    "    \n",
    "    Args:\n",
    "        start_date (string): A date string in the format %Y-%m-%d\n",
    "        end_date (string): A date string in the format %Y-%m-%d\n",
    "        \n",
    "    Returns:\n",
    "        TMIN, TAVE, and TMAX\n",
    "    \"\"\"\n",
    "    \n",
    "    return session.query(func.min(Measurement.tobs), func.avg(Measurement.tobs), func.max(Measurement.tobs)).\\\n",
    "        filter(Measurement.date >= start_date).filter(Measurement.date <= end_date).all()\n",
    "\n",
    "# function usage example\n",
    "print(calc_temps('2012-02-28', '2012-03-05'))"
   ]
  },
  {
   "cell_type": "code",
   "execution_count": 25,
   "metadata": {},
   "outputs": [
    {
     "name": "stdout",
     "output_type": "stream",
     "text": [
      "Based on last year's trip dates, the minimum temperature was 62.0 Fahrenheit.\n",
      "Based on last year's trip dates, the average temperature was 68.37 Fahrenheit.\n",
      "Based on last year's trip dates, the maximum temperature was 74.0 Fahrenheit.\n"
     ]
    }
   ],
   "source": [
    "# Obtain the same dates from the previous year\n",
    "trip_start_prev_yr = datetime.strptime(trip_start,'%Y-%m-%d') - dt.timedelta(days=365)\n",
    "trip_end_prev_yr = datetime.strptime(trip_end,'%Y-%m-%d') - dt.timedelta(days=365)\n",
    "\n",
    "# Use 'calc_temps' to calculate the tmin, tavg, and tmax for your trip using the previous year's data for those same dates\n",
    "vacay_stats_prev_yr = calc_temps(trip_start_prev_yr.date(),trip_end_prev_yr.date())\n",
    "# Convert list of tuples into normal list\n",
    "vacay_stats_prev_yr_lst = list(np.ravel(vacay_stats_prev_yr))\n",
    "\n",
    "print(f\"Based on last year's trip dates, the minimum temperature was {vacay_stats_prev_yr_lst[0]} Fahrenheit.\")\n",
    "print(f\"Based on last year's trip dates, the average temperature was {round(vacay_stats_prev_yr_lst[1],2)} Fahrenheit.\")\n",
    "print(f\"Based on last year's trip dates, the maximum temperature was {vacay_stats_prev_yr_lst[2]} Fahrenheit.\")"
   ]
  },
  {
   "cell_type": "code",
   "execution_count": 26,
   "metadata": {},
   "outputs": [
    {
     "data": {
      "image/png": "[encoded data removed]",
      "text/plain": [
       "<Figure size 432x288 with 1 Axes>"
      ]
     },
     "metadata": {
      "needs_background": "light"
     },
     "output_type": "display_data"
    }
   ],
   "source": [
    "# Use the peak-to-peak (tmax-tmin) value as the y error bar (yerr)\n",
    "peak_to_peak = vacay_stats_prev_yr_lst[2] - vacay_stats_prev_yr_lst[0]\n",
    "# Create a Pandas Dataframe\n",
    "vacay_stats_prev_yr_df = pd.DataFrame(vacay_stats_prev_yr, columns=['tmin', 'tavg','tmax'])\n",
    "\n",
    "# Use .plot.bar to get a bar graph displaying the average temperature for the trip dates from the previous year\n",
    "vacay_stats_prev_yr_df['tavg'].plot.bar(yerr=peak_to_peak,title='Trip Avg Temp',alpha=0.5,color=\"coral\")\n",
    "# Remove ticks on the x-axis for better readability\n",
    "plt.xticks([])\n",
    "# Adjust y-axis so that it displays temperature from 0 to 100 \n",
    "plt.yticks(np.arange(0, 105,20))\n",
    "# Label y-axis appropriately\n",
    "plt.ylabel(\"Temp in Fahrenheit\")\n",
    "# Automatically adjust parameter and display the plot\n",
    "plt.tight_layout()\n",
    "plt.show()"
   ]
  },
  {
   "cell_type": "markdown",
   "metadata": {},
   "source": [
    "### Daily Normals"
   ]
  },
  {
   "cell_type": "code",
   "execution_count": 27,
   "metadata": {},
   "outputs": [
    {
     "data": {
      "text/plain": [
       "[('USC00519523',\n",
       "  'WAIMANALO EXPERIMENTAL FARM, HI US',\n",
       "  21.33556,\n",
       "  -157.71139,\n",
       "  19.5,\n",
       "  0.61),\n",
       " ('USC00514830',\n",
       "  'KUALOA RANCH HEADQUARTERS 886.9, HI US',\n",
       "  21.5213,\n",
       "  -157.8374,\n",
       "  7.0,\n",
       "  0.6),\n",
       " ('USC00516128',\n",
       "  'MANOA LYON ARBO 785.2, HI US',\n",
       "  21.3331,\n",
       "  -157.8025,\n",
       "  152.4,\n",
       "  0.57),\n",
       " ('USC00519281',\n",
       "  'WAIHEE 837.5, HI US',\n",
       "  21.45167,\n",
       "  -157.84888999999998,\n",
       "  32.9,\n",
       "  0.16999999999999998),\n",
       " ('USC00513117', 'KANEOHE 838.1, HI US', 21.4234, -157.8015, 14.6, 0.06),\n",
       " ('USC00519397', 'WAIKIKI 717.2, HI US', 21.2716, -157.8168, 3.0, 0.0)]"
      ]
     },
     "execution_count": 27,
     "metadata": {},
     "output_type": "execute_result"
    }
   ],
   "source": [
    "# Calculate total rainfall per weather station using trip dates from the previous year\n",
    "session.query(Station.station,Station.name,Station.latitude,Station.longitude, \\\n",
    "              Station.elevation,func.sum(Measurement.prcp)).\\\n",
    "              join(Measurement,Station.station==Measurement.station).\\\n",
    "              filter(Measurement.date >= trip_start_prev_yr).\\\n",
    "              filter(Measurement.date <= trip_end_prev_yr).\\\n",
    "              group_by(Station.station,Station.name).\\\n",
    "              order_by(func.sum(Measurement.prcp).desc()).all()"
   ]
  },
  {
   "cell_type": "code",
   "execution_count": 28,
   "metadata": {},
   "outputs": [
    {
     "data": {
      "text/plain": [
       "[(62.0, 69.15384615384616, 77.0)]"
      ]
     },
     "execution_count": 28,
     "metadata": {},
     "output_type": "execute_result"
    }
   ],
   "source": [
    "# This function 'daily_normals' will calculate daily normals for a specific date \n",
    "# (i.e. the averages for tmin, tmax, and tavg for all historic data matching a specific month and day)\n",
    "\n",
    "def daily_normals(date):\n",
    "    \"\"\"Daily Normals.\n",
    "    \n",
    "    Args:\n",
    "        date (str): A date string in the format '%m-%d'\n",
    "        \n",
    "    Returns:\n",
    "        A list of tuples containing the daily normals, tmin, tavg, and tmax\n",
    "    \n",
    "    \"\"\"\n",
    "    \n",
    "    sel = [func.min(Measurement.tobs), func.avg(Measurement.tobs), func.max(Measurement.tobs)]\n",
    "    return session.query(*sel).filter(func.strftime(\"%m-%d\", Measurement.date) == date).all()\n",
    "\n",
    "# Test the function    \n",
    "daily_normals(\"01-01\")"
   ]
  },
  {
   "cell_type": "code",
   "execution_count": 29,
   "metadata": {},
   "outputs": [
    {
     "name": "stdout",
     "output_type": "stream",
     "text": [
      "[(62.0, 69.15384615384616, 77.0), (60.0, 69.39622641509433, 77.0), (62.0, 68.9090909090909, 77.0), (58.0, 70.0, 76.0), (56.0, 67.96428571428571, 76.0), (61.0, 68.96491228070175, 76.0), (57.0, 68.54385964912281, 76.0)]\n"
     ]
    }
   ],
   "source": [
    "# Create datetime variables for trip start and end dates\n",
    "start = datetime.strptime(trip_start, \"%Y-%m-%d\")\n",
    "end = datetime.strptime(trip_end, \"%Y-%m-%d\")\n",
    "# Use list comprehension to create a trip_range\n",
    "trip_range = [start + dt.timedelta(days=day) for day in range(0, (end-start).days + 1)]\n",
    "# Use list comprehension with strftime to remove the year\n",
    "trip_dates = [datetime.strftime(trip_range[day],'%m-%d') for day in range(0,len(trip_range))]\n",
    "\n",
    "# Use list comprehension to perform the daily_normals function\n",
    "normals = [daily_normals(date)[0] for date in trip_dates]\n",
    "print(normals)"
   ]
  },
  {
   "cell_type": "code",
   "execution_count": 30,
   "metadata": {},
   "outputs": [
    {
     "data": {
      "text/html": [
       "<div>\n",
       "<style scoped>\n",
       "    .dataframe tbody tr th:only-of-type {\n",
       "        vertical-align: middle;\n",
       "    }\n",
       "\n",
       "    .dataframe tbody tr th {\n",
       "        vertical-align: top;\n",
       "    }\n",
       "\n",
       "    .dataframe thead th {\n",
       "        text-align: right;\n",
       "    }\n",
       "</style>\n",
       "<table border=\"1\" class=\"dataframe\">\n",
       "  <thead>\n",
       "    <tr style=\"text-align: right;\">\n",
       "      <th></th>\n",
       "      <th>tmin</th>\n",
       "      <th>tavg</th>\n",
       "      <th>tmax</th>\n",
       "    </tr>\n",
       "  </thead>\n",
       "  <tbody>\n",
       "    <tr>\n",
       "      <th>01-01</th>\n",
       "      <td>62.0</td>\n",
       "      <td>69.153846</td>\n",
       "      <td>77.0</td>\n",
       "    </tr>\n",
       "    <tr>\n",
       "      <th>01-02</th>\n",
       "      <td>60.0</td>\n",
       "      <td>69.396226</td>\n",
       "      <td>77.0</td>\n",
       "    </tr>\n",
       "    <tr>\n",
       "      <th>01-03</th>\n",
       "      <td>62.0</td>\n",
       "      <td>68.909091</td>\n",
       "      <td>77.0</td>\n",
       "    </tr>\n",
       "    <tr>\n",
       "      <th>01-04</th>\n",
       "      <td>58.0</td>\n",
       "      <td>70.000000</td>\n",
       "      <td>76.0</td>\n",
       "    </tr>\n",
       "    <tr>\n",
       "      <th>01-05</th>\n",
       "      <td>56.0</td>\n",
       "      <td>67.964286</td>\n",
       "      <td>76.0</td>\n",
       "    </tr>\n",
       "    <tr>\n",
       "      <th>01-06</th>\n",
       "      <td>61.0</td>\n",
       "      <td>68.964912</td>\n",
       "      <td>76.0</td>\n",
       "    </tr>\n",
       "    <tr>\n",
       "      <th>01-07</th>\n",
       "      <td>57.0</td>\n",
       "      <td>68.543860</td>\n",
       "      <td>76.0</td>\n",
       "    </tr>\n",
       "  </tbody>\n",
       "</table>\n",
       "</div>"
      ],
      "text/plain": [
       "       tmin       tavg  tmax\n",
       "01-01  62.0  69.153846  77.0\n",
       "01-02  60.0  69.396226  77.0\n",
       "01-03  62.0  68.909091  77.0\n",
       "01-04  58.0  70.000000  76.0\n",
       "01-05  56.0  67.964286  76.0\n",
       "01-06  61.0  68.964912  76.0\n",
       "01-07  57.0  68.543860  76.0"
      ]
     },
     "execution_count": 30,
     "metadata": {},
     "output_type": "execute_result"
    }
   ],
   "source": [
    "# Create Pandas DataFrame using normals and add the 'trip_dates' range as the index\n",
    "normals_df = pd.DataFrame(normals, index= trip_dates,columns=['tmin', 'tavg','tmax'])\n",
    "normals_df"
   ]
  },
  {
   "cell_type": "code",
   "execution_count": 31,
   "metadata": {},
   "outputs": [
    {
     "data": {
      "image/png": "[encoded data removed]",
      "text/plain": [
       "<Figure size 432x288 with 1 Axes>"
      ]
     },
     "metadata": {
      "needs_background": "light"
     },
     "output_type": "display_data"
    }
   ],
   "source": [
    "# Plot the daily normals as an area plot with `stacked=False`\n",
    "normals_df.plot(kind='area', stacked=False,alpha=0.5, title = \"Daily Normals during Trip Dates\")\n",
    "# Label x-axis and y-axis appropriately\n",
    "plt.xlabel(\"Date\")\n",
    "plt.ylabel(\"Temp in Fahrenheit\")\n",
    "# Automatically adjust parameter and display the plot\n",
    "plt.tight_layout()\n",
    "plt.show()"
   ]
  }
 ],
 "metadata": {
  "kernelspec": {
   "display_name": "Python 3",
   "language": "python",
   "name": "python3"
  },
  "language_info": {
   "codemirror_mode": {
    "name": "ipython",
    "version": 3
   },
   "file_extension": ".py",
   "mimetype": "text/x-python",
   "name": "python",
   "nbconvert_exporter": "python",
   "pygments_lexer": "ipython3",
   "version": "3.7.3"
  }
 },
 "nbformat": 4,
 "nbformat_minor": 2
}
